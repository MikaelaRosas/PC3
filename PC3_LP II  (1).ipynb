{
 "cells": [
  {
   "cell_type": "markdown",
   "id": "dcb71a32",
   "metadata": {},
   "source": [
    "# PC 3-WEB SCRAPING \n",
    "## https://www.gob.pe\n",
    "### Integrantes:\n",
    "-Diaz Guevara, Juan Carlos\n",
    "-Ramos Ayma,Xiomara\n",
    "-Rosas Tenorio, Mikaela\n",
    "-Tenicela Arana, Anthony\n",
    "\n"
   ]
  },
  {
   "cell_type": "code",
   "execution_count": 10,
   "id": "66f5eca4",
   "metadata": {},
   "outputs": [],
   "source": [
    "#INSTALANDO PAQUETES \n",
    "#!pip install selenium\n",
    "from selenium import webdriver\n",
    "from selenium.webdriver.common.keys import Keys\n",
    "from selenium.webdriver.support import expected_conditions as EC\n",
    "from selenium.webdriver.common.by import By\n",
    "from selenium.webdriver.support.wait import WebDriverWait\n",
    "import time\n",
    "import os"
   ]
  },
  {
   "cell_type": "code",
   "execution_count": null,
   "id": "660465bd",
   "metadata": {},
   "outputs": [],
   "source": [
    "#HACIENDO EL REQUERIMIENTO\n",
    "import requests\n",
    "pagina = 1\n",
    "url_base = \"https://www.gob.pe/institucion/presidencia/noticias?filter%5Bterms%5D=&amp;filter%5Btype%5D=&amp;sheet=\""
   ]
  },
  {
   "cell_type": "code",
   "execution_count": 2,
   "id": "fb0fa317",
   "metadata": {},
   "outputs": [],
   "source": [
    "respuesta = requests.get(url_base + str(pagina))"
   ]
  },
  {
   "cell_type": "code",
   "execution_count": 3,
   "id": "2c0b7bb1",
   "metadata": {},
   "outputs": [],
   "source": [
    "from bs4 import BeautifulSoup"
   ]
  },
  {
   "cell_type": "code",
   "execution_count": 4,
   "id": "6f219089",
   "metadata": {},
   "outputs": [],
   "source": [
    "def obtiene_links(page):\n",
    "    response = requests.get(url_base + str(page))\n",
    "    sopa = BeautifulSoup(response.text)\n",
    "    anchors = []\n",
    "    if sopa is not None: #si la lista no es vacia\n",
    "        anchors = sopa.find_all(\"a\",{\"class\":\"text-primary track-ga-click card__mock hover:no-underline\"})\n",
    "                                       #class=\"card border relative bg-white flex shadow-cards min-h-350px h-full flex-col\"\n",
    "    hrefs = [\"https://www.gob.pe\" + a[\"href\"] for a in anchors]\n",
    "    return hrefs"
   ]
  },
  {
   "cell_type": "code",
   "execution_count": 5,
   "id": "72a8a586",
   "metadata": {},
   "outputs": [
    {
     "data": {
      "text/plain": [
       "['https://www.gob.pe/institucion/presidencia/noticias/588503-presidente-castillo-en-lambayeque-este-es-el-gobierno-y-el-quinquenio-de-la-educacion',\n",
       " 'https://www.gob.pe/institucion/presidencia/noticias/588027-presidente-pide-a-autoridades-regionales-y-locales-hacer-una-sola-fuerza-para-que-se-reconozca-a-la-educacion-como-un-derecho-fundamental',\n",
       " 'https://www.gob.pe/institucion/presidencia/noticias/587401-consejo-de-ministros-debate-proyectos-de-ley-sobre-devolucion-inmediata-de-aportes-al-fonavi-y-para-evitar-paralizaciones-de-obras-publicas',\n",
       " 'https://www.gob.pe/institucion/presidencia/noticias/588189-presidente-castillo-destaca-trabajo-en-conjunto-de-sectores-publico-y-privado-para-generar-el-desarrollo-del-pais',\n",
       " 'https://www.gob.pe/institucion/presidencia/noticias/588601-presidente-castillo-es-responsabilidad-del-gobierno-dar-al-pueblo-el-derecho-al-agua-y-atender-sus-necesidades-mas-urgentes',\n",
       " 'https://www.gob.pe/institucion/presidencia/noticias/588503-presidente-castillo-en-lambayeque-este-es-el-gobierno-y-el-quinquenio-de-la-educacion',\n",
       " 'https://www.gob.pe/institucion/presidencia/noticias/588397-presidente-castillo-congreso-y-ejecutivo-deben-hablar-un-solo-lenguaje-por-desarrollo-del-pais',\n",
       " 'https://www.gob.pe/institucion/presidencia/noticias/588219-presidente-castillo-recibe-a-13-connacionales-repatriados-de-ucrania',\n",
       " 'https://www.gob.pe/institucion/presidencia/noticias/588189-presidente-castillo-destaca-trabajo-en-conjunto-de-sectores-publico-y-privado-para-generar-el-desarrollo-del-pais',\n",
       " 'https://www.gob.pe/institucion/presidencia/noticias/588149-presidente-castillo-toma-juramento-a-ministro-de-transportes-y-comunicaciones',\n",
       " 'https://www.gob.pe/institucion/presidencia/noticias/588128-presidente-castillo-haremos-las-reformas-que-el-peru-necesita',\n",
       " 'https://www.gob.pe/institucion/presidencia/noticias/588027-presidente-pide-a-autoridades-regionales-y-locales-hacer-una-sola-fuerza-para-que-se-reconozca-a-la-educacion-como-un-derecho-fundamental',\n",
       " 'https://www.gob.pe/institucion/presidencia/noticias/587992-presidente-castillo-trabajamos-para-dar-salud-y-educacion-al-pueblo-y-atender-sus-grandes-necesidades',\n",
       " 'https://www.gob.pe/institucion/presidencia/noticias/587401-consejo-de-ministros-debate-proyectos-de-ley-sobre-devolucion-inmediata-de-aportes-al-fonavi-y-para-evitar-paralizaciones-de-obras-publicas',\n",
       " 'https://www.gob.pe/institucion/presidencia/noticias/587233-presidente-castillo-reafirma-que-no-retrocedera-en-la-responsabilidad-que-le-ha-dado-el-pais-y-llama-al-pueblo-a-defender-la-democracia',\n",
       " 'https://www.gob.pe/institucion/presidencia/noticias/586655-presidente-castillo-jamas-renunciare-a-la-tarea-que-me-ha-encomendado-el-pais-y-seguire-trabajando-con-total-fortaleza',\n",
       " 'https://www.gob.pe/institucion/presidencia/noticias/586638-comunicado-de-prensa',\n",
       " 'https://www.gob.pe/institucion/presidencia/noticias/586636-presidente-castillo-rescatamos-los-recursos-naturales-del-pais-para-todos-los-peruanos-en-el-marco-de-la-segunda-reforma-agraria',\n",
       " 'https://www.gob.pe/institucion/presidencia/noticias/586591-presidente-castillo-pide-activar-la-carta-democratica-de-la-oea-para-dar-tranquilidad-al-pais-y-respetar-el-mandato-del-pueblo']"
      ]
     },
     "execution_count": 5,
     "metadata": {},
     "output_type": "execute_result"
    }
   ],
   "source": [
    "obtiene_links(1) # links de la pagina 1, en total 19"
   ]
  },
  {
   "cell_type": "code",
   "execution_count": 6,
   "id": "177a498b",
   "metadata": {},
   "outputs": [],
   "source": [
    "TODOS_los_links = []\n",
    "for pg in range(10):\n",
    "    TODOS_los_links.extend(obtiene_links(pg))"
   ]
  },
  {
   "cell_type": "code",
   "execution_count": 7,
   "id": "00e08021",
   "metadata": {},
   "outputs": [
    {
     "data": {
      "text/plain": [
       "'https://www.gob.pe/institucion/presidencia/noticias/588601-presidente-castillo-es-responsabilidad-del-gobierno-dar-al-pueblo-el-derecho-al-agua-y-atender-sus-necesidades-mas-urgentes'"
      ]
     },
     "execution_count": 7,
     "metadata": {},
     "output_type": "execute_result"
    }
   ],
   "source": [
    "respuesta_articulo = requests.get(TODOS_los_links[0])\n",
    "respuesta_articulo\n",
    "TODOS_los_links[4]"
   ]
  },
  {
   "cell_type": "code",
   "execution_count": 8,
   "id": "eb6c49ff",
   "metadata": {},
   "outputs": [
    {
     "name": "stdout",
     "output_type": "stream",
     "text": [
      "1\n"
     ]
    },
    {
     "data": {
      "text/plain": [
       "'Presidente Castillo en Lambayeque: este es el gobierno y el quinquenio de la educaciÃ³nNota de Prensaâ\\x80¢\\tMandatario subrayÃ³ que los ministros de Estado recorrerÃ¡n las regiones del paÃ\\xads para supervisar la infraestructura de las instituciones educativas.Fotos: PRENSAPRENSA 7 de marzo de 2022 -  3:51 p. m.'"
      ]
     },
     "execution_count": 8,
     "metadata": {},
     "output_type": "execute_result"
    }
   ],
   "source": [
    "# LLAMAMOS A LOS : titulo, subtitulos y fecha\n",
    "requests.get(TODOS_los_links[4])\n",
    "sopa_articulo = BeautifulSoup(respuesta_articulo.text)\n",
    "contenido =sopa_articulo.find_all(\"div\",{\"class\":\"institution-document\"}) \n",
    "titulo = contenido\n",
    "print(len(contenido)) # todo junto \n",
    "contenido[0].text"
   ]
  },
  {
   "cell_type": "code",
   "execution_count": 9,
   "id": "b6e00bb0",
   "metadata": {},
   "outputs": [
    {
     "name": "stdout",
     "output_type": "stream",
     "text": [
      "Presidente Castillo en Lambayeque: este es el gobierno y el quinquenio de la educaciÃ³nNota de Prensaâ¢\tMandatario subrayÃ³ que los ministros de Estado recorrerÃ¡n las regiones del paÃ­s para supervisar la infraestructura de las instituciones educativas.Fotos: PRENSAPRENSA 7 de marzo de 2022 -  3:51 p. m.Â·Â  Â  Â  Â  Jefe del Estado inaugurÃ³ obras de infraestructura de cuatro colegios de esta regiÃ³n.Â \n",
      "Â \n",
      "Lambayeque, 7 de marzo de 2022.- âEste es el gobierno y el quinquenio de la educaciÃ³n peruanaâ, afirmÃ³ hoy el presidente de la RepÃºblica, Pedro Castillo, al subrayar que su gestiÃ³n otorgarÃ¡ el presupuesto correspondiente a este sector y que los ministros de Estado recorrerÃ¡n las regiones del paÃ­s para supervisar la infraestructura de las instituciones educativas.Â AcompaÃ±ado por los ministros de Defensa, JosÃ© Gavidia; de Transportes y Comunicaciones, NicolÃ¡s Bustamante; y de Vivienda, ConstrucciÃ³n y Saneamiento, Geiner Alvarado; el mandatario llegÃ³ esta maÃ±ana a Lambayeque para cumplir una agenda de trabajo que incluyÃ³ la inauguraciÃ³n de obras de infraestructura de cuatro instituciones educativas de esta regiÃ³n. Â Â âCuÃ¡ntos compatriotas contemporÃ¡neos se han visto frustrados por no tener una educaciÃ³n, por no tener primaria, secundaria y tener muy lejana la oportunidad de llegar a la universidadâ, anotÃ³ al inaugurar la obra de rehabilitaciÃ³n de la infraestructura de la InstituciÃ³n Educativa Inicial NÂ° 037 âVirgen de la Luzâ, que beneficiarÃ¡ a 100 alumnos y alumnas. Este colegio se ubica en el pueblo joven 9 de Octubre, en el distrito de Chiclayo, en la provincia del mismo nombre.Â Â Al convocar al magisterio para revalorar la carrera docente, reafirmÃ³ que âaquÃ­ tienen un maestro presidente que darÃ¡ todo su esfuerzo para que los profesores vuelvan a ser los segundos padres de la patriaâ.Â \n",
      "TRATAR BIEN A LOS NIÃOSÂ El jefe del Estado subrayÃ³ la importancia de que los niÃ±os y niÃ±as sean bien tratados no solo en el aula, sino tambiÃ©n por parte de las autoridades regionales y locales, asÃ­ como por los congresistas y ministros de Estado.Â âTratarlos bien significa darles educaciÃ³n, que ninguno se quede sin matrÃ­cula, que estÃ©n bien alimentados dentro y fuera del aula, que el barrio sea seguro, que no haya delincuentes; tratarlos bien significa que haya domicilios, asentamientos humanos sin problemas de agua y desagÃ¼eâ, enfatizÃ³.Â En otro momento, el presidente Castillo destacÃ³ la labor que realiza la Autoridad para la ReconstrucciÃ³n con Cambios y que 70 colegios ya hayan sido entregados y puestos al servicio de la regiÃ³n Lambayeque. En esa lÃ­nea, anotÃ³ que 630 colegios ya han sido concluidos y otros 500 se encuentran en plena construcciÃ³n a nivel nacional.Â Â Asimismo, seÃ±alÃ³ que a las instituciones educativas sin agua hay que dotarlas de este recurso y que si no cuentan con personal hay que hacer un esfuerzo para dar el presupuesto respectivo, a fin de brindar la mejor atenciÃ³n a los alumnos.Â El mandatario sostuvo que las aulas tienen que estar abiertas sin distinciÃ³n de apellidos, de razas, de situaciÃ³n econÃ³mica.Â âNos han enseÃ±ado que cuando llega un gobierno provinciano, rural, lo quieren mirar y desde un principio han optado por discriminarlo. Eso lo tenemos que acabar en el paÃ­s. Todos estamos en la capacidad de asumir, bajo esta ConstituciÃ³n, una responsabilidad que esta sociedad nos ha entregadoâ, afirmÃ³.Â Â Tras instar a los ministros a atender siempre a las autoridades regionales y locales, reiterÃ³ que la deuda que tiene el Estado con el pueblo en materia de infraestructura educativa asciende a 111 mil millones de soles y que la deuda social con los maestros es de 33 mil millones de soles.Â âLejos de estar pensando en otra cosa, deberÃ­amos estar pensando en pagar la deuda interna al paÃ­s, para que los pueblos tengan agua, salud, educaciÃ³nâ, puntualizÃ³.Â Â En la ceremonia estuvieron presentes la directora ejecutiva de la Autoridad para la ReconstrucciÃ³n con Cambios, Amalia Moreno; y el alcalde provincial de Chiclayo, Marcos Gasco.\n",
      "El presidente Castillo tambiÃ©n inaugurÃ³ la obra de mejoramiento del servicio de educaciÃ³n inicial en la InstituciÃ³n Educativa Inicial NÂ° 445 âBodegonesâ, que se ubica en el distrito de Lambayeque, en la provincia del mismo nombre.Â Asimismo, participÃ³ en las inauguraciones de las obras de recuperaciÃ³n del Local Escolar NÂ° 11572 âMochicaâ y de rehabilitaciÃ³n de la InstituciÃ³n Educativa NÂ° 10169 âSeÃ±or de la Divina Misericordiaâ, que se ubican en el distrito de MÃ³rrope, provincia de Lambayeque.\n",
      "1\n",
      "[<h2 class=\"text-4xl leading-tight\">Presidente Castillo en Lambayeque: este es el gobierno y el quinquenio de la educaciÃ³n</h2>, <h2 class=\"js-footer-links-toggle mb-4 text-2xl relative flex justify-between items-center text-2xl\" id=\"footer-section-categories-label\">Servicios e informaciÃ³n<svg aria-hidden=\"true\" class=\"md:hidden\" height=\"24\" viewbox=\"0 0 24 24\" width=\"24\" xmlns=\"http://www.w3.org/2000/svg\"><g><g><path d=\"M24 13.714H13.714V24h-3.428V13.714H0v-3.428h10.286V0h3.428v10.286H24z\" fill=\"#fff\"></path></g></g></svg></h2>, <h2 class=\"mb-6 text-2xl sm:mb-4\" id=\"footer-section-estado-peruano\">Sobre el Estado Peruano</h2>, <h2 class=\"text-2xl mb-8\" id=\"footer-section-redes\">Redes Sociales</h2>]\n"
     ]
    }
   ],
   "source": [
    "#\n",
    "requests.get(TODOS_los_links[4])\n",
    "sopa_articulo = BeautifulSoup(respuesta_articulo.text)\n",
    "contenido =sopa_articulo.find_all(\"div\",{\"col-md-8 page\"}) \n",
    "# \"col-md-8 page\" selecciona todo el espacio donde se escribe\n",
    "# \"col-md-12\" \n",
    "print(contenido[0].text) # todo el texto con titulo\n",
    "contenido1 =sopa_articulo.find_all(\"h2\") \n",
    "print(len(contenido)) \n",
    "print(contenido1) # h2 de todoooooo en general"
   ]
  },
  {
   "cell_type": "code",
   "execution_count": 13,
   "id": "fcd4bf95",
   "metadata": {},
   "outputs": [],
   "source": [
    "driver = webdriver.Chrome('C:/Users/JUAN CARLOS DIAZ/Desktop/Pc3_Lp II/chromedriver.exe')"
   ]
  },
  {
   "cell_type": "code",
   "execution_count": 14,
   "id": "4775de4a",
   "metadata": {},
   "outputs": [],
   "source": [
    "driver.get('https://www.gob.pe/institucion/presidencia/noticias/588503-presidente-castillo-en-lambayeque-este-es-el-gobierno-y-el-quinquenio-de-la-educacion')"
   ]
  },
  {
   "cell_type": "code",
   "execution_count": 15,
   "id": "8b47a29c",
   "metadata": {},
   "outputs": [
    {
     "data": {
      "text/plain": [
       "['https://www.gob.pe/assets/escudo_blanco_bicentenario-e69a94ce75d54855710e792893d9fab033993f757d7e8f1be4bfa0119085f0ee.svg',\n",
       " 'https://www.gob.pe/assets/escudo_text_gobpe_bicentenario-ac50fd00900e62759d6e9a3045387571403435ab9b650021e3c49b39e6a9b660.svg',\n",
       " 'https://www.gob.pe/assets/escudo_text_gobpe_bicentenario_black-dd0b8b3ea9c67a76fb0c05196563a20f2900ebd82b09507312ce401c4610aa46.svg',\n",
       " 'https://www.gob.pe/assets/escudo_text_gobpe_bicentenario-ac50fd00900e62759d6e9a3045387571403435ab9b650021e3c49b39e6a9b660.svg',\n",
       " 'https://cdn.www.gob.pe/uploads/document/file/2892027/standard_51923394097_7d8a530223_k.jpg.jpg']"
      ]
     },
     "execution_count": 15,
     "metadata": {},
     "output_type": "execute_result"
    }
   ],
   "source": [
    "# Hemos sacado el link de las imagenes \n",
    "images= driver.find_elements_by_tag_name('img')\n",
    "images = [image.get_attribute('src') for image in images]\n",
    "images             "
   ]
  }
 ],
 "metadata": {
  "kernelspec": {
   "display_name": "Python 3 (ipykernel)",
   "language": "python",
   "name": "python3"
  },
  "language_info": {
   "codemirror_mode": {
    "name": "ipython",
    "version": 3
   },
   "file_extension": ".py",
   "mimetype": "text/x-python",
   "name": "python",
   "nbconvert_exporter": "python",
   "pygments_lexer": "ipython3",
   "version": "3.9.7"
  }
 },
 "nbformat": 4,
 "nbformat_minor": 5
}
